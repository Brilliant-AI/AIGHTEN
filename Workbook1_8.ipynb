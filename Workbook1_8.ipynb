{
 "cells": [
  {
   "cell_type": "code",
   "execution_count": 1,
   "metadata": {
    "slideshow": {
     "slide_type": "slide"
    }
   },
   "outputs": [],
   "source": [
    "def transfer(score):\n",
    "    if score >= 90:\n",
    "        return(\"A\")\n",
    "\n",
    "    elif score >= 80:\n",
    "        return(\"B\")\n",
    "\n",
    "    elif score >= 70:\n",
    "        return(\"C\")\n",
    "\n",
    "    elif score >= 60:\n",
    "        return(\"D\")\n",
    "\n",
    "    else:\n",
    "        return(\"F\")"
   ]
  },
  {
   "cell_type": "code",
   "execution_count": 2,
   "metadata": {},
   "outputs": [
    {
     "name": "stdout",
     "output_type": "stream",
     "text": [
      "점수 :97\n"
     ]
    }
   ],
   "source": [
    "score = int(input(\"점수 :\"))"
   ]
  },
  {
   "cell_type": "code",
   "execution_count": 3,
   "metadata": {},
   "outputs": [],
   "source": [
    "grade = transfer(score)"
   ]
  },
  {
   "cell_type": "code",
   "execution_count": 4,
   "metadata": {},
   "outputs": [
    {
     "name": "stdout",
     "output_type": "stream",
     "text": [
      "A\n"
     ]
    }
   ],
   "source": [
    "print(grade)"
   ]
  },
  {
   "cell_type": "code",
   "execution_count": 5,
   "metadata": {},
   "outputs": [
    {
     "name": "stdout",
     "output_type": "stream",
     "text": [
      "점수 :97\n",
      "A\n"
     ]
    }
   ],
   "source": [
    "def transfer(score):\n",
    "    if score >= 90:\n",
    "        return(\"A\")\n",
    "\n",
    "    elif score >= 80:\n",
    "        return(\"B\")\n",
    "\n",
    "    elif score >= 70:\n",
    "        return(\"C\")\n",
    "\n",
    "    elif score >= 60:\n",
    "        return(\"D\")\n",
    "\n",
    "    else:\n",
    "        return(\"F\")\n",
    "    \n",
    "score = int(input(\"점수 :\"))\n",
    "\n",
    "grade = transfer(score)\n",
    "\n",
    "print(grade)"
   ]
  }
 ],
 "metadata": {
  "kernelspec": {
   "display_name": "Python 3",
   "language": "python",
   "name": "python3"
  },
  "language_info": {
   "codemirror_mode": {
    "name": "ipython",
    "version": 3
   },
   "file_extension": ".py",
   "mimetype": "text/x-python",
   "name": "python",
   "nbconvert_exporter": "python",
   "pygments_lexer": "ipython3",
   "version": "3.7.4"
  }
 },
 "nbformat": 4,
 "nbformat_minor": 2
}
