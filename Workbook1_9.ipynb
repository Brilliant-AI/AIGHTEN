{
 "cells": [
  {
   "cell_type": "code",
   "execution_count": 1,
   "metadata": {},
   "outputs": [],
   "source": [
    "def transfer(temper, action):\n",
    "    if (action == 0):\n",
    "        return (\"섭씨->화씨\", temper * 1.8 + 32)\n",
    "    else:\n",
    "        return (\"화씨->섭씨\", (temper - 32) / 1.8)"
   ]
  },
  {
   "cell_type": "code",
   "execution_count": 2,
   "metadata": {},
   "outputs": [
    {
     "name": "stdout",
     "output_type": "stream",
     "text": [
      "온도 : 30\n",
      "변환(섭씨->화씨 : 0 , 화씨->섭씨 : 1) : 0\n"
     ]
    }
   ],
   "source": [
    "t = int(input(\"온도 : \"))\n",
    "a = int(input(\"변환(섭씨->화씨 : 0 , 화씨->섭씨 : 1) : \"))"
   ]
  },
  {
   "cell_type": "code",
   "execution_count": 3,
   "metadata": {},
   "outputs": [],
   "source": [
    "(return_a, return_t) = transfer(t, a)"
   ]
  },
  {
   "cell_type": "code",
   "execution_count": 4,
   "metadata": {},
   "outputs": [
    {
     "name": "stdout",
     "output_type": "stream",
     "text": [
      "섭씨->화씨 : 30 -> 86.0\n"
     ]
    }
   ],
   "source": [
    "print(return_a, \":\", t, \"->\",  return_t)"
   ]
  },
  {
   "cell_type": "code",
   "execution_count": 5,
   "metadata": {},
   "outputs": [
    {
     "name": "stdout",
     "output_type": "stream",
     "text": [
      "온도 : 30\n",
      "변환(섭씨->화씨 : 0 , 화씨->섭씨 : 1) : 0\n",
      "섭씨->화씨 : 30 -> 86.0\n"
     ]
    }
   ],
   "source": [
    "def transfer(temper, action):\n",
    "    if (action == 0):\n",
    "        return (\"섭씨->화씨\", temper * 1.8 + 32)\n",
    "    else:\n",
    "        return (\"화씨->섭씨\", (temper - 32) / 1.8)\n",
    "\n",
    "t = int(input(\"온도 : \"))\n",
    "a = int(input(\"변환(섭씨->화씨 : 0 , 화씨->섭씨 : 1) : \"))\n",
    "\n",
    "(return_a, return_t) = transfer(t, a)\n",
    "\n",
    "print(return_a, \":\", t, \"->\",  return_t)"
   ]
  }
 ],
 "metadata": {
  "kernelspec": {
   "display_name": "Python 3",
   "language": "python",
   "name": "python3"
  },
  "language_info": {
   "codemirror_mode": {
    "name": "ipython",
    "version": 3
   },
   "file_extension": ".py",
   "mimetype": "text/x-python",
   "name": "python",
   "nbconvert_exporter": "python",
   "pygments_lexer": "ipython3",
   "version": "3.7.4"
  }
 },
 "nbformat": 4,
 "nbformat_minor": 2
}
