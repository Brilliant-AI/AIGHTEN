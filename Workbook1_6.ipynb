{
 "cells": [
  {
   "cell_type": "code",
   "execution_count": 1,
   "metadata": {
    "slideshow": {
     "slide_type": "subslide"
    }
   },
   "outputs": [
    {
     "name": "stdout",
     "output_type": "stream",
     "text": [
      "사람의 수 : 5\n"
     ]
    }
   ],
   "source": [
    "num_student = int(input(\"사람의 수 : \"))\n",
    "student_list = []"
   ]
  },
  {
   "cell_type": "code",
   "execution_count": 2,
   "metadata": {
    "slideshow": {
     "slide_type": "subslide"
    }
   },
   "outputs": [
    {
     "name": "stdout",
     "output_type": "stream",
     "text": [
      "몸무게, 키 : 55 185\n",
      "몸무게, 키 : 58 183\n",
      "몸무게, 키 : 88 186\n",
      "몸무게, 키 : 60 175\n",
      "몸무게, 키 : 46 155\n"
     ]
    }
   ],
   "source": [
    "for _ in range(num_student):\n",
    "    weight, height = map(int, input(\"몸무게, 키 : \").split())\n",
    "    student_list.append((weight, height))"
   ]
  },
  {
   "cell_type": "code",
   "execution_count": 3,
   "metadata": {
    "slideshow": {
     "slide_type": "subslide"
    }
   },
   "outputs": [
    {
     "name": "stdout",
     "output_type": "stream",
     "text": [
      "(55, 185) 의 등수 : 2\n",
      "(58, 183) 의 등수 : 2\n",
      "(88, 186) 의 등수 : 1\n",
      "(60, 175) 의 등수 : 2\n",
      "(46, 155) 의 등수 : 5\n"
     ]
    }
   ],
   "source": [
    "for i in student_list:\n",
    "    rank = 1\n",
    "    for j in student_list:\n",
    "        if i[0] < j[0] and i[1] < j[1]:\n",
    "                rank += 1\n",
    "    print(i, \"의 등수 :\", rank)"
   ]
  },
  {
   "cell_type": "code",
   "execution_count": 4,
   "metadata": {
    "scrolled": false,
    "slideshow": {
     "slide_type": "subslide"
    }
   },
   "outputs": [
    {
     "name": "stdout",
     "output_type": "stream",
     "text": [
      "사람의 수 : 5\n",
      "몸무게, 키 : 55 185\n",
      "몸무게, 키 : 58 183\n",
      "몸무게, 키 : 88 186\n",
      "몸무게, 키 : 60 175\n",
      "몸무게, 키 : 46 155\n",
      "(55, 185) 의 등수 : 2\n",
      "(58, 183) 의 등수 : 2\n",
      "(88, 186) 의 등수 : 1\n",
      "(60, 175) 의 등수 : 2\n",
      "(46, 155) 의 등수 : 5\n"
     ]
    }
   ],
   "source": [
    "num_student = int(input(\"사람의 수 : \"))\n",
    "student_list = []\n",
    "\n",
    "for _ in range(num_student):\n",
    "    weight, height = map(int, input(\"몸무게, 키 : \").split())\n",
    "    student_list.append((weight, height))\n",
    "\n",
    "for i in student_list:\n",
    "    rank = 1\n",
    "    for j in student_list:\n",
    "        if i[0] < j[0] and i[1] < j[1]:\n",
    "                rank += 1\n",
    "    print(i, \"의 등수 :\", rank)"
   ]
  }
 ],
 "metadata": {
  "kernelspec": {
   "display_name": "Python 3",
   "language": "python",
   "name": "python3"
  },
  "language_info": {
   "codemirror_mode": {
    "name": "ipython",
    "version": 3
   },
   "file_extension": ".py",
   "mimetype": "text/x-python",
   "name": "python",
   "nbconvert_exporter": "python",
   "pygments_lexer": "ipython3",
   "version": "3.7.4"
  }
 },
 "nbformat": 4,
 "nbformat_minor": 2
}
