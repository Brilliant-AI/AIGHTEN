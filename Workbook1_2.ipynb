{
 "cells": [
  {
   "cell_type": "code",
   "execution_count": 1,
   "metadata": {
    "slideshow": {
     "slide_type": "subslide"
    }
   },
   "outputs": [
    {
     "name": "stdout",
     "output_type": "stream",
     "text": [
      "첫 번째 숫자 = 592\n",
      "두 번째 숫자 = 328\n"
     ]
    }
   ],
   "source": [
    "num1 = input(\"첫 번째 숫자 = \")\n",
    "num2 = input(\"두 번째 숫자 = \")"
   ]
  },
  {
   "cell_type": "code",
   "execution_count": 2,
   "metadata": {
    "slideshow": {
     "slide_type": "subslide"
    }
   },
   "outputs": [],
   "source": [
    "num1 = int(num1)\n",
    "num2 = int(num2)\n",
    "str1 = str(num2)"
   ]
  },
  {
   "cell_type": "code",
   "execution_count": 3,
   "metadata": {
    "scrolled": true,
    "slideshow": {
     "slide_type": "subslide"
    }
   },
   "outputs": [
    {
     "name": "stdout",
     "output_type": "stream",
     "text": [
      "곱셈과정 첫 번째 줄 : 4736\n",
      "곱셈과정 두 번째 줄 : 1184\n",
      "곱셈과정 세 번째 줄 : 1776\n",
      "최종 결과 : 194176\n"
     ]
    }
   ],
   "source": [
    "print(\"곱셈과정 첫 번째 줄 :\", num1*int(str1[2]))\n",
    "print(\"곱셈과정 두 번째 줄 :\", num1*int(str1[1]))\n",
    "print(\"곱셈과정 세 번째 줄 :\", num1*int(str1[0]))\n",
    "print(\"최종 결과 :\", num1*num2)"
   ]
  },
  {
   "cell_type": "code",
   "execution_count": 4,
   "metadata": {
    "slideshow": {
     "slide_type": "subslide"
    }
   },
   "outputs": [
    {
     "name": "stdout",
     "output_type": "stream",
     "text": [
      "첫 번째 숫자 = 592\n",
      "두 번째 숫자 = 328\n",
      "곱셈과정 첫 번째 줄 : 4736\n",
      "곱셈과정 두 번째 줄 : 1184\n",
      "곱셈과정 세 번째 줄 : 1776\n",
      "최종 결과 : 194176\n"
     ]
    }
   ],
   "source": [
    "num1 = input(\"첫 번째 숫자 = \")\n",
    "num2 = input(\"두 번째 숫자 = \")\n",
    "\n",
    "num1 = int(num1)\n",
    "num2 = int(num2)\n",
    "str1 = str(num2)\n",
    "\n",
    "print(\"곱셈과정 첫 번째 줄 :\", num1*int(str1[2]))\n",
    "print(\"곱셈과정 두 번째 줄 :\", num1*int(str1[1]))\n",
    "print(\"곱셈과정 세 번째 줄 :\", num1*int(str1[0]))\n",
    "print(\"최종 결과 :\", num1*num2)"
   ]
  }
 ],
 "metadata": {
  "kernelspec": {
   "display_name": "Python 3",
   "language": "python",
   "name": "python3"
  },
  "language_info": {
   "codemirror_mode": {
    "name": "ipython",
    "version": 3
   },
   "file_extension": ".py",
   "mimetype": "text/x-python",
   "name": "python",
   "nbconvert_exporter": "python",
   "pygments_lexer": "ipython3",
   "version": "3.7.4"
  }
 },
 "nbformat": 4,
 "nbformat_minor": 2
}
