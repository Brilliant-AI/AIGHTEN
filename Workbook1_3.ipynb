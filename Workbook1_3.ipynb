{
 "cells": [
  {
   "cell_type": "code",
   "execution_count": 1,
   "metadata": {},
   "outputs": [
    {
     "name": "stdout",
     "output_type": "stream",
     "text": [
      "점수 :97\n"
     ]
    }
   ],
   "source": [
    "score = int(input(\"점수 :\"))"
   ]
  },
  {
   "cell_type": "code",
   "execution_count": 2,
   "metadata": {
    "slideshow": {
     "slide_type": "slide"
    }
   },
   "outputs": [
    {
     "name": "stdout",
     "output_type": "stream",
     "text": [
      "A\n"
     ]
    }
   ],
   "source": [
    "if score >= 90:\n",
    "    print(\"A\")\n",
    "\n",
    "elif score >= 80:\n",
    "    print(\"B\")\n",
    "\n",
    "elif score >= 70:\n",
    "    print(\"C\")\n",
    "\n",
    "elif score >= 60:\n",
    "    print(\"D\")\n",
    "\n",
    "else:\n",
    "    print(\"F\")"
   ]
  },
  {
   "cell_type": "code",
   "execution_count": 3,
   "metadata": {},
   "outputs": [
    {
     "name": "stdout",
     "output_type": "stream",
     "text": [
      "점수 :97\n",
      "A\n"
     ]
    }
   ],
   "source": [
    "score = int(input(\"점수 :\"))\n",
    "\n",
    "if score >= 90:\n",
    "    print(\"A\")\n",
    "\n",
    "elif score >= 80:\n",
    "    print(\"B\")\n",
    "\n",
    "elif score >= 70:\n",
    "    print(\"C\")\n",
    "\n",
    "elif score >= 60:\n",
    "    print(\"D\")\n",
    "\n",
    "else:\n",
    "    print(\"F\")"
   ]
  }
 ],
 "metadata": {
  "kernelspec": {
   "display_name": "Python 3",
   "language": "python",
   "name": "python3"
  },
  "language_info": {
   "codemirror_mode": {
    "name": "ipython",
    "version": 3
   },
   "file_extension": ".py",
   "mimetype": "text/x-python",
   "name": "python",
   "nbconvert_exporter": "python",
   "pygments_lexer": "ipython3",
   "version": "3.7.4"
  }
 },
 "nbformat": 4,
 "nbformat_minor": 2
}
