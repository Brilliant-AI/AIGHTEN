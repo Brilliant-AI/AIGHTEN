{
 "cells": [
  {
   "cell_type": "code",
   "execution_count": 1,
   "metadata": {
    "slideshow": {
     "slide_type": "subslide"
    }
   },
   "outputs": [
    {
     "name": "stdout",
     "output_type": "stream",
     "text": [
      "N, H =7 5\n"
     ]
    }
   ],
   "source": [
    "N, H = map(int, input(\"N, H =\").split())"
   ]
  },
  {
   "cell_type": "code",
   "execution_count": 2,
   "metadata": {
    "slideshow": {
     "slide_type": "subslide"
    }
   },
   "outputs": [
    {
     "name": "stdout",
     "output_type": "stream",
     "text": [
      "Nlist =10 2 7 4 6 1 3\n"
     ]
    }
   ],
   "source": [
    "Nlist = list(map(int,input(\"Nlist =\").split()))"
   ]
  },
  {
   "cell_type": "code",
   "execution_count": 3,
   "metadata": {
    "slideshow": {
     "slide_type": "subslide"
    }
   },
   "outputs": [
    {
     "name": "stdout",
     "output_type": "stream",
     "text": [
      "5 보다 작은 숫자들 :\n",
      "2 4 1 3 "
     ]
    }
   ],
   "source": [
    "print(H, \"보다 작은 숫자들 :\")\n",
    "for i in range(N):\n",
    "    if Nlist[i] < H:\n",
    "        print(Nlist[i], end=' ')"
   ]
  },
  {
   "cell_type": "code",
   "execution_count": 4,
   "metadata": {
    "slideshow": {
     "slide_type": "subslide"
    }
   },
   "outputs": [
    {
     "name": "stdout",
     "output_type": "stream",
     "text": [
      "N, H =7 5\n",
      "Nlist =10 2 7 4 6 1 3\n",
      "5 보다 작은 숫자들 :\n",
      "2 4 1 3 "
     ]
    }
   ],
   "source": [
    "N, H = map(int, input(\"N, H =\").split())\n",
    "\n",
    "Nlist = list(map(int,input(\"Nlist =\").split()))\n",
    " \n",
    "print(H, \"보다 작은 숫자들 :\")\n",
    "for i in range(N):\n",
    "    if Nlist[i] < H:\n",
    "        print(Nlist[i], end=' ')"
   ]
  }
 ],
 "metadata": {
  "kernelspec": {
   "display_name": "Python 3",
   "language": "python",
   "name": "python3"
  },
  "language_info": {
   "codemirror_mode": {
    "name": "ipython",
    "version": 3
   },
   "file_extension": ".py",
   "mimetype": "text/x-python",
   "name": "python",
   "nbconvert_exporter": "python",
   "pygments_lexer": "ipython3",
   "version": "3.7.4"
  }
 },
 "nbformat": 4,
 "nbformat_minor": 2
}
