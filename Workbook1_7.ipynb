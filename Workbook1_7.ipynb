{
 "cells": [
  {
   "cell_type": "code",
   "execution_count": 1,
   "metadata": {},
   "outputs": [
    {
     "name": "stdout",
     "output_type": "stream",
     "text": [
      "3 5\n",
      "두 수의 합은 8\n",
      "7 19\n",
      "두 수의 합은 26\n",
      "0 0\n"
     ]
    }
   ],
   "source": [
    "while(True):\n",
    "    \n",
    "    A, B = list(map(int, input().split()))\n",
    "    \n",
    "    if(A == 0 and B == 0):\n",
    "        break\n",
    "        \n",
    "    else:\n",
    "        print(\"두 수의 합은\", A + B)"
   ]
  }
 ],
 "metadata": {
  "kernelspec": {
   "display_name": "Python 3",
   "language": "python",
   "name": "python3"
  },
  "language_info": {
   "codemirror_mode": {
    "name": "ipython",
    "version": 3
   },
   "file_extension": ".py",
   "mimetype": "text/x-python",
   "name": "python",
   "nbconvert_exporter": "python",
   "pygments_lexer": "ipython3",
   "version": "3.7.4"
  }
 },
 "nbformat": 4,
 "nbformat_minor": 2
}
