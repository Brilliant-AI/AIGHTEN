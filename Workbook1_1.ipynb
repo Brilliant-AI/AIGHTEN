{
 "cells": [
  {
   "cell_type": "code",
   "execution_count": 1,
   "metadata": {
    "scrolled": true,
    "slideshow": {
     "slide_type": "subslide"
    }
   },
   "outputs": [
    {
     "name": "stdout",
     "output_type": "stream",
     "text": [
      "첫 번째 숫자 = 13\n",
      "두 번째 숫자 = 4\n"
     ]
    }
   ],
   "source": [
    "a =  input(\"첫 번째 숫자 = \")\n",
    "b =  input(\"두 번째 숫자 = \")"
   ]
  },
  {
   "cell_type": "code",
   "execution_count": 2,
   "metadata": {
    "slideshow": {
     "slide_type": "subslide"
    }
   },
   "outputs": [],
   "source": [
    "a = int(a)\n",
    "b = int(b)"
   ]
  },
  {
   "cell_type": "code",
   "execution_count": 3,
   "metadata": {
    "slideshow": {
     "slide_type": "subslide"
    }
   },
   "outputs": [
    {
     "name": "stdout",
     "output_type": "stream",
     "text": [
      "두 수의 합 : 17\n",
      "두 수의 차 : 9\n",
      "두 수의 곱 : 52\n",
      "두 수를 나눈 값 : 3.25\n",
      "두 수를 나눈 나머지 : 1\n"
     ]
    }
   ],
   "source": [
    "print (\"두 수의 합 :\", a+b)\n",
    "print (\"두 수의 차 :\", a-b)\n",
    "print (\"두 수의 곱 :\", a*b)\n",
    "print (\"두 수를 나눈 값 :\", a/b)\n",
    "print (\"두 수를 나눈 나머지 :\", a%b)"
   ]
  },
  {
   "cell_type": "code",
   "execution_count": 4,
   "metadata": {
    "slideshow": {
     "slide_type": "subslide"
    }
   },
   "outputs": [
    {
     "name": "stdout",
     "output_type": "stream",
     "text": [
      "첫 번째 숫자 = 13\n",
      "두 번째 숫자 = 4\n",
      "두 수의 합 : 17\n",
      "두 수의 차 : 9\n",
      "두 수의 곱 : 52\n",
      "두 수를 나눈 값 : 3.25\n",
      "두 수를 나눈 나머지 : 1\n"
     ]
    }
   ],
   "source": [
    "a =  input(\"첫 번째 숫자 = \")\n",
    "b =  input(\"두 번째 숫자 = \")\n",
    "\n",
    "a = int(a)\n",
    "b = int(b)\n",
    "\n",
    "print (\"두 수의 합 :\", a+b)\n",
    "print (\"두 수의 차 :\", a-b)\n",
    "print (\"두 수의 곱 :\", a*b)\n",
    "print (\"두 수를 나눈 값 :\", a/b)\n",
    "print (\"두 수를 나눈 나머지 :\", a%b)"
   ]
  }
 ],
 "metadata": {
  "kernelspec": {
   "display_name": "Python 3",
   "language": "python",
   "name": "python3"
  },
  "language_info": {
   "codemirror_mode": {
    "name": "ipython",
    "version": 3
   },
   "file_extension": ".py",
   "mimetype": "text/x-python",
   "name": "python",
   "nbconvert_exporter": "python",
   "pygments_lexer": "ipython3",
   "version": "3.7.4"
  }
 },
 "nbformat": 4,
 "nbformat_minor": 2
}
