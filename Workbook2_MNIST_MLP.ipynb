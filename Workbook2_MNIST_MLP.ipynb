{
 "cells": [
  {
   "cell_type": "code",
   "execution_count": 1,
   "metadata": {},
   "outputs": [],
   "source": [
    "import tensorflow as tf\n",
    "\n",
    "from tensorflow import keras"
   ]
  },
  {
   "cell_type": "code",
   "execution_count": 2,
   "metadata": {},
   "outputs": [
    {
     "name": "stdout",
     "output_type": "stream",
     "text": [
      "(60000, 28, 28) (60000,) (10000, 28, 28) (10000,)\n"
     ]
    }
   ],
   "source": [
    "mnist = keras.datasets.mnist\n",
    "(X_train0, y_train0), (X_test0, y_test0) = mnist.load_data()\n",
    "\n",
    "print(X_train0.shape, y_train0.shape, X_test0.shape, y_test0.shape)"
   ]
  },
  {
   "cell_type": "code",
   "execution_count": 4,
   "metadata": {},
   "outputs": [
    {
     "data": {
      "image/png": "[encoded data removed]",
      "text/plain": [
       "<Figure size 432x72 with 36 Axes>"
      ]
     },
     "metadata": {
      "needs_background": "light"
     },
     "output_type": "display_data"
    }
   ],
   "source": [
    "import matplotlib.pylab as plt\n",
    "\n",
    "plt.figure(figsize=(6, 1))\n",
    "for i in range(36):\n",
    "    plt.subplot(3, 12, i+1)\n",
    "    plt.imshow(X_train0[i], cmap=\"gray\")\n",
    "    plt.axis(\"off\")\n",
    "plt.show()"
   ]
  },
  {
   "cell_type": "code",
   "execution_count": 5,
   "metadata": {
    "scrolled": true
   },
   "outputs": [
    {
     "name": "stdout",
     "output_type": "stream",
     "text": [
      "(60000, 28, 28) uint8\n",
      "(60000,) uint8\n",
      "(10000, 28, 28) uint8\n",
      "(10000,) uint8\n"
     ]
    }
   ],
   "source": [
    "print(X_train0.shape, X_train0.dtype)\n",
    "print(y_train0.shape, y_train0.dtype)\n",
    "print(X_test0.shape, X_test0.dtype)\n",
    "print(y_test0.shape, y_test0.dtype)"
   ]
  },
  {
   "cell_type": "code",
   "execution_count": 6,
   "metadata": {},
   "outputs": [
    {
     "name": "stdout",
     "output_type": "stream",
     "text": [
      "(60000, 784) float32\n"
     ]
    }
   ],
   "source": [
    "X_train = X_train0.reshape(60000, 784).astype('float32') / 255.0\n",
    "X_test = X_test0.reshape(10000, 784).astype('float32') / 255.0\n",
    "print(X_train.shape, X_train.dtype)"
   ]
  },
  {
   "cell_type": "code",
   "execution_count": 7,
   "metadata": {},
   "outputs": [
    {
     "data": {
      "text/plain": [
       "array([5, 0, 4, 1, 9], dtype=uint8)"
      ]
     },
     "execution_count": 7,
     "metadata": {},
     "output_type": "execute_result"
    }
   ],
   "source": [
    "y_train0[:5]"
   ]
  },
  {
   "cell_type": "code",
   "execution_count": 8,
   "metadata": {},
   "outputs": [
    {
     "data": {
      "text/plain": [
       "array([[0., 0., 0., 0., 0., 1., 0., 0., 0., 0.],\n",
       "       [1., 0., 0., 0., 0., 0., 0., 0., 0., 0.],\n",
       "       [0., 0., 0., 0., 1., 0., 0., 0., 0., 0.],\n",
       "       [0., 1., 0., 0., 0., 0., 0., 0., 0., 0.],\n",
       "       [0., 0., 0., 0., 0., 0., 0., 0., 0., 1.]], dtype=float32)"
      ]
     },
     "execution_count": 8,
     "metadata": {},
     "output_type": "execute_result"
    }
   ],
   "source": [
    "from tensorflow.keras.utils import to_categorical\n",
    "\n",
    "Y_train = to_categorical(y_train0, 10)\n",
    "Y_test = to_categorical(y_test0, 10)\n",
    "Y_train[:5]"
   ]
  },
  {
   "cell_type": "code",
   "execution_count": 9,
   "metadata": {},
   "outputs": [],
   "source": [
    "from tensorflow.keras.models import Sequential\n",
    "from tensorflow.keras.layers import Dense\n",
    "from tensorflow.keras.optimizers import SGD\n",
    "\n",
    "#tf.random.set_seed(0)\n",
    "\n",
    "model = Sequential()\n",
    "model.add(Dense(15, input_dim=784, activation=\"sigmoid\"))\n",
    "model.add(Dense(10, activation=\"sigmoid\"))\n",
    "model.compile(optimizer=SGD(lr=0.2), loss='mean_squared_error', metrics=[\"accuracy\"])"
   ]
  },
  {
   "cell_type": "code",
   "execution_count": 10,
   "metadata": {
    "scrolled": false
   },
   "outputs": [
    {
     "name": "stdout",
     "output_type": "stream",
     "text": [
      "Model: \"sequential\"\n",
      "_________________________________________________________________\n",
      "Layer (type)                 Output Shape              Param #   \n",
      "=================================================================\n",
      "dense (Dense)                (None, 15)                11775     \n",
      "_________________________________________________________________\n",
      "dense_1 (Dense)              (None, 10)                160       \n",
      "=================================================================\n",
      "Total params: 11,935\n",
      "Trainable params: 11,935\n",
      "Non-trainable params: 0\n",
      "_________________________________________________________________\n"
     ]
    }
   ],
   "source": [
    "model.summary()"
   ]
  },
  {
   "cell_type": "code",
   "execution_count": 11,
   "metadata": {},
   "outputs": [
    {
     "name": "stdout",
     "output_type": "stream",
     "text": [
      "Train on 60000 samples, validate on 10000 samples\n",
      "Epoch 1/50\n",
      "60000/60000 - 3s - loss: 0.0996 - accuracy: 0.3374 - val_loss: 0.0860 - val_accuracy: 0.4873\n",
      "Epoch 2/50\n",
      "60000/60000 - 3s - loss: 0.0835 - accuracy: 0.5146 - val_loss: 0.0808 - val_accuracy: 0.5383\n",
      "Epoch 3/50\n",
      "60000/60000 - 2s - loss: 0.0778 - accuracy: 0.5547 - val_loss: 0.0746 - val_accuracy: 0.5634\n",
      "Epoch 4/50\n",
      "60000/60000 - 2s - loss: 0.0715 - accuracy: 0.5877 - val_loss: 0.0684 - val_accuracy: 0.6021\n",
      "Epoch 5/50\n",
      "60000/60000 - 2s - loss: 0.0656 - accuracy: 0.6202 - val_loss: 0.0628 - val_accuracy: 0.6338\n",
      "Epoch 6/50\n",
      "60000/60000 - 2s - loss: 0.0605 - accuracy: 0.6524 - val_loss: 0.0582 - val_accuracy: 0.6727\n",
      "Epoch 7/50\n",
      "60000/60000 - 2s - loss: 0.0563 - accuracy: 0.6884 - val_loss: 0.0543 - val_accuracy: 0.7108\n",
      "Epoch 8/50\n",
      "60000/60000 - 2s - loss: 0.0527 - accuracy: 0.7230 - val_loss: 0.0509 - val_accuracy: 0.7488\n",
      "Epoch 9/50\n",
      "60000/60000 - 2s - loss: 0.0495 - accuracy: 0.7547 - val_loss: 0.0479 - val_accuracy: 0.7804\n",
      "Epoch 10/50\n",
      "60000/60000 - 2s - loss: 0.0467 - accuracy: 0.7805 - val_loss: 0.0452 - val_accuracy: 0.7999\n",
      "Epoch 11/50\n",
      "60000/60000 - 2s - loss: 0.0442 - accuracy: 0.7997 - val_loss: 0.0427 - val_accuracy: 0.8185\n",
      "Epoch 12/50\n",
      "60000/60000 - 2s - loss: 0.0419 - accuracy: 0.8148 - val_loss: 0.0405 - val_accuracy: 0.8308\n",
      "Epoch 13/50\n",
      "60000/60000 - 2s - loss: 0.0398 - accuracy: 0.8289 - val_loss: 0.0385 - val_accuracy: 0.8396\n",
      "Epoch 14/50\n",
      "60000/60000 - 2s - loss: 0.0379 - accuracy: 0.8381 - val_loss: 0.0366 - val_accuracy: 0.8494\n",
      "Epoch 15/50\n",
      "60000/60000 - 2s - loss: 0.0362 - accuracy: 0.8464 - val_loss: 0.0350 - val_accuracy: 0.8566\n",
      "Epoch 16/50\n",
      "60000/60000 - 2s - loss: 0.0346 - accuracy: 0.8531 - val_loss: 0.0335 - val_accuracy: 0.8632\n",
      "Epoch 17/50\n",
      "60000/60000 - 2s - loss: 0.0332 - accuracy: 0.8582 - val_loss: 0.0322 - val_accuracy: 0.8667\n",
      "Epoch 18/50\n",
      "60000/60000 - 2s - loss: 0.0320 - accuracy: 0.8625 - val_loss: 0.0310 - val_accuracy: 0.8713\n",
      "Epoch 19/50\n",
      "60000/60000 - 2s - loss: 0.0309 - accuracy: 0.8662 - val_loss: 0.0299 - val_accuracy: 0.8747\n",
      "Epoch 20/50\n",
      "60000/60000 - 2s - loss: 0.0299 - accuracy: 0.8697 - val_loss: 0.0290 - val_accuracy: 0.8772\n",
      "Epoch 21/50\n",
      "60000/60000 - 2s - loss: 0.0290 - accuracy: 0.8722 - val_loss: 0.0281 - val_accuracy: 0.8792\n",
      "Epoch 22/50\n",
      "60000/60000 - 2s - loss: 0.0281 - accuracy: 0.8747 - val_loss: 0.0273 - val_accuracy: 0.8815\n",
      "Epoch 23/50\n",
      "60000/60000 - 2s - loss: 0.0274 - accuracy: 0.8767 - val_loss: 0.0266 - val_accuracy: 0.8832\n",
      "Epoch 24/50\n",
      "60000/60000 - 2s - loss: 0.0267 - accuracy: 0.8784 - val_loss: 0.0259 - val_accuracy: 0.8846\n",
      "Epoch 25/50\n",
      "60000/60000 - 2s - loss: 0.0261 - accuracy: 0.8796 - val_loss: 0.0253 - val_accuracy: 0.8866\n",
      "Epoch 26/50\n",
      "60000/60000 - 2s - loss: 0.0255 - accuracy: 0.8811 - val_loss: 0.0248 - val_accuracy: 0.8882\n",
      "Epoch 27/50\n",
      "60000/60000 - 2s - loss: 0.0250 - accuracy: 0.8828 - val_loss: 0.0242 - val_accuracy: 0.8892\n",
      "Epoch 28/50\n",
      "60000/60000 - 2s - loss: 0.0245 - accuracy: 0.8844 - val_loss: 0.0238 - val_accuracy: 0.8910\n",
      "Epoch 29/50\n",
      "60000/60000 - 2s - loss: 0.0240 - accuracy: 0.8859 - val_loss: 0.0233 - val_accuracy: 0.8920\n",
      "Epoch 30/50\n",
      "60000/60000 - 2s - loss: 0.0236 - accuracy: 0.8867 - val_loss: 0.0229 - val_accuracy: 0.8926\n",
      "Epoch 31/50\n",
      "60000/60000 - 2s - loss: 0.0232 - accuracy: 0.8878 - val_loss: 0.0226 - val_accuracy: 0.8932\n",
      "Epoch 32/50\n",
      "60000/60000 - 2s - loss: 0.0228 - accuracy: 0.8890 - val_loss: 0.0222 - val_accuracy: 0.8940\n",
      "Epoch 33/50\n",
      "60000/60000 - 2s - loss: 0.0225 - accuracy: 0.8897 - val_loss: 0.0219 - val_accuracy: 0.8953\n",
      "Epoch 34/50\n",
      "60000/60000 - 2s - loss: 0.0222 - accuracy: 0.8905 - val_loss: 0.0216 - val_accuracy: 0.8959\n",
      "Epoch 35/50\n",
      "60000/60000 - 2s - loss: 0.0219 - accuracy: 0.8915 - val_loss: 0.0213 - val_accuracy: 0.8966\n",
      "Epoch 36/50\n",
      "60000/60000 - 2s - loss: 0.0216 - accuracy: 0.8924 - val_loss: 0.0210 - val_accuracy: 0.8976\n",
      "Epoch 37/50\n",
      "60000/60000 - 2s - loss: 0.0213 - accuracy: 0.8937 - val_loss: 0.0207 - val_accuracy: 0.8988\n",
      "Epoch 38/50\n",
      "60000/60000 - 2s - loss: 0.0211 - accuracy: 0.8940 - val_loss: 0.0205 - val_accuracy: 0.8996\n",
      "Epoch 39/50\n",
      "60000/60000 - 2s - loss: 0.0208 - accuracy: 0.8949 - val_loss: 0.0203 - val_accuracy: 0.8999\n",
      "Epoch 40/50\n",
      "60000/60000 - 2s - loss: 0.0206 - accuracy: 0.8957 - val_loss: 0.0200 - val_accuracy: 0.9001\n",
      "Epoch 41/50\n",
      "60000/60000 - 2s - loss: 0.0204 - accuracy: 0.8961 - val_loss: 0.0198 - val_accuracy: 0.9009\n",
      "Epoch 42/50\n",
      "60000/60000 - 2s - loss: 0.0202 - accuracy: 0.8972 - val_loss: 0.0196 - val_accuracy: 0.9016\n",
      "Epoch 43/50\n",
      "60000/60000 - 2s - loss: 0.0200 - accuracy: 0.8981 - val_loss: 0.0194 - val_accuracy: 0.9021\n",
      "Epoch 44/50\n",
      "60000/60000 - 2s - loss: 0.0198 - accuracy: 0.8987 - val_loss: 0.0193 - val_accuracy: 0.9027\n",
      "Epoch 45/50\n",
      "60000/60000 - 2s - loss: 0.0196 - accuracy: 0.8990 - val_loss: 0.0191 - val_accuracy: 0.9035\n",
      "Epoch 46/50\n",
      "60000/60000 - 2s - loss: 0.0194 - accuracy: 0.8999 - val_loss: 0.0189 - val_accuracy: 0.9043\n",
      "Epoch 47/50\n",
      "60000/60000 - 2s - loss: 0.0193 - accuracy: 0.9002 - val_loss: 0.0188 - val_accuracy: 0.9046\n",
      "Epoch 48/50\n",
      "60000/60000 - 2s - loss: 0.0191 - accuracy: 0.9007 - val_loss: 0.0186 - val_accuracy: 0.9053\n",
      "Epoch 49/50\n",
      "60000/60000 - 2s - loss: 0.0189 - accuracy: 0.9012 - val_loss: 0.0185 - val_accuracy: 0.9057\n",
      "Epoch 50/50\n",
      "60000/60000 - 2s - loss: 0.0188 - accuracy: 0.9023 - val_loss: 0.0183 - val_accuracy: 0.9058\n",
      "Wall time: 1min 46s\n"
     ]
    }
   ],
   "source": [
    "%%time\n",
    "hist = model.fit(X_train, Y_train,\n",
    "                 epochs=50, batch_size=100,\n",
    "                 validation_data=(X_test, Y_test),\n",
    "                 verbose=2)"
   ]
  },
  {
   "cell_type": "code",
   "execution_count": 12,
   "metadata": {},
   "outputs": [
    {
     "data": {
      "image/png": "[encoded data removed]",
      "text/plain": [
       "<Figure size 576x288 with 2 Axes>"
      ]
     },
     "metadata": {
      "needs_background": "light"
     },
     "output_type": "display_data"
    }
   ],
   "source": [
    "plt.figure(figsize=(8, 4))\n",
    "plt.subplot(1, 2, 1)\n",
    "plt.plot(hist.history['loss'])\n",
    "plt.title(\"loss\")\n",
    "plt.subplot(1, 2, 2)\n",
    "plt.title(\"accuracy\")\n",
    "plt.ylim(0.1,1)\n",
    "plt.plot(hist.history['accuracy'], 'b-', label=\"training\")\n",
    "plt.plot(hist.history['val_accuracy'], 'r:', label=\"validation\")\n",
    "plt.legend()\n",
    "plt.tight_layout()\n",
    "plt.show()"
   ]
  }
 ],
 "metadata": {
  "kernelspec": {
   "display_name": "Python 3",
   "language": "python",
   "name": "python3"
  },
  "language_info": {
   "codemirror_mode": {
    "name": "ipython",
    "version": 3
   },
   "file_extension": ".py",
   "mimetype": "text/x-python",
   "name": "python",
   "nbconvert_exporter": "python",
   "pygments_lexer": "ipython3",
   "version": "3.7.4"
  }
 },
 "nbformat": 4,
 "nbformat_minor": 2
}
