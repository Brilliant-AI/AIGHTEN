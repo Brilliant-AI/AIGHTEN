{
 "cells": [
  {
   "cell_type": "code",
   "execution_count": 1,
   "metadata": {
    "slideshow": {
     "slide_type": "subslide"
    }
   },
   "outputs": [
    {
     "name": "stdout",
     "output_type": "stream",
     "text": [
      "일어나야 하는 시간 : 9 15\n"
     ]
    }
   ],
   "source": [
    "H, M = input(\"일어나야 하는 시간 : \").split()"
   ]
  },
  {
   "cell_type": "code",
   "execution_count": 2,
   "metadata": {
    "slideshow": {
     "slide_type": "subslide"
    }
   },
   "outputs": [],
   "source": [
    "H = int (H)\n",
    "M = int (M)"
   ]
  },
  {
   "cell_type": "code",
   "execution_count": 3,
   "metadata": {
    "slideshow": {
     "slide_type": "subslide"
    }
   },
   "outputs": [],
   "source": [
    "if H == 0:\n",
    "    H = 24"
   ]
  },
  {
   "cell_type": "code",
   "execution_count": 4,
   "metadata": {
    "slideshow": {
     "slide_type": "subslide"
    }
   },
   "outputs": [
    {
     "name": "stdout",
     "output_type": "stream",
     "text": [
      "실제 알람이 울리는 시간 : 8 시 35 분\n"
     ]
    }
   ],
   "source": [
    "if M >= 40:\n",
    "    print(\"실제 알람이 울리는 시간 :\", H, \"시\", M-40, \"분\")\n",
    "else:\n",
    "    print(\"실제 알람이 울리는 시간 :\", H-1, \"시\", (60+M)-40, \"분\")"
   ]
  },
  {
   "cell_type": "code",
   "execution_count": 5,
   "metadata": {
    "slideshow": {
     "slide_type": "subslide"
    }
   },
   "outputs": [
    {
     "name": "stdout",
     "output_type": "stream",
     "text": [
      "일어나야 하는 시간 : 9 15\n",
      "실제 알람이 울리는 시간 : 8 시 35 분\n"
     ]
    }
   ],
   "source": [
    "H, M = input(\"일어나야 하는 시간 : \").split()\n",
    "\n",
    "H = int (H)\n",
    "M = int (M)\n",
    "\n",
    "if H == 0:\n",
    "    H = 24\n",
    "    \n",
    "if M >= 40:\n",
    "    print(\"실제 알람이 울리는 시간 :\", H, \"시\", M-40, \"분\")\n",
    "else:\n",
    "    print(\"실제 알람이 울리는 시간 :\", H-1, \"시\", (60+M)-40, \"분\")"
   ]
  }
 ],
 "metadata": {
  "kernelspec": {
   "display_name": "Python 3",
   "language": "python",
   "name": "python3"
  },
  "language_info": {
   "codemirror_mode": {
    "name": "ipython",
    "version": 3
   },
   "file_extension": ".py",
   "mimetype": "text/x-python",
   "name": "python",
   "nbconvert_exporter": "python",
   "pygments_lexer": "ipython3",
   "version": "3.7.4"
  }
 },
 "nbformat": 4,
 "nbformat_minor": 2
}
